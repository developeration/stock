{
 "cells": [
  {
   "cell_type": "code",
   "execution_count": 1,
   "metadata": {},
   "outputs": [],
   "source": [
    "from _Setting import StockSetting\n",
    "import tushare  as ts\n",
    "settings = StockSetting()\n",
    "pro = ts.pro_api(settings.tushareKey)"
   ]
  },
  {
   "cell_type": "code",
   "execution_count": null,
   "metadata": {},
   "outputs": [],
   "source": [
    "# get list\n",
    "data_list = pro.stock_basic(exchange='', list_status='L',market='主板')"
   ]
  },
  {
   "cell_type": "code",
   "execution_count": 8,
   "metadata": {},
   "outputs": [],
   "source": [
    "data_list.to_json('/work/dev/stock/datasource/stock_basic_Main.json')"
   ]
  }
 ],
 "metadata": {
  "interpreter": {
   "hash": "09d5292026d74dd0d882db1b282e48d19169a513618ea22779a1255a8a058a13"
  },
  "kernelspec": {
   "display_name": "Python 3.8.12 ('pyspark')",
   "language": "python",
   "name": "python3"
  },
  "language_info": {
   "codemirror_mode": {
    "name": "ipython",
    "version": 3
   },
   "file_extension": ".py",
   "mimetype": "text/x-python",
   "name": "python",
   "nbconvert_exporter": "python",
   "pygments_lexer": "ipython3",
   "version": "3.8.12"
  },
  "orig_nbformat": 4
 },
 "nbformat": 4,
 "nbformat_minor": 2
}
