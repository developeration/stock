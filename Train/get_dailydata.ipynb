{
 "cells": [
  {
   "cell_type": "code",
   "execution_count": 20,
   "metadata": {},
   "outputs": [],
   "source": [
    "from _Setting import StockSetting\n",
    "import tushare  as ts\n",
    "import numpy as np\n",
    "settings = StockSetting()\n",
    "\n",
    "pro = ts.pro_api(settings.tushareKey)"
   ]
  },
  {
   "cell_type": "code",
   "execution_count": 33,
   "metadata": {},
   "outputs": [
    {
     "data": {
      "text/plain": [
       "(2147, 7)"
      ]
     },
     "execution_count": 33,
     "metadata": {},
     "output_type": "execute_result"
    }
   ],
   "source": [
    "# get list\n",
    "data_list = pro.stock_basic(exchange='', list_status='L',market='主板')\n",
    "data_list.shape"
   ]
  },
  {
   "cell_type": "code",
   "execution_count": null,
   "metadata": {},
   "outputs": [],
   "source": [
    "data_list.to_json('/work/dev/stock/datasource/stock_basic_Main.json')"
   ]
  },
  {
   "cell_type": "code",
   "execution_count": null,
   "metadata": {},
   "outputs": [],
   "source": [
    "data_list_exec = data_list.query(\"list_date < '20100101'\")\n",
    "#print(dd.info())\n",
    "data_list_exec.shape"
   ]
  },
  {
   "cell_type": "code",
   "execution_count": null,
   "metadata": {},
   "outputs": [],
   "source": [
    "def get_daily_data(item):\n",
    "    data_daily = pro.daily(ts_code=item.ts_code )\n",
    "    return data_daily"
   ]
  },
  {
   "cell_type": "code",
   "execution_count": 59,
   "metadata": {},
   "outputs": [
    {
     "data": {
      "text/plain": [
       "(1273, 7)"
      ]
     },
     "execution_count": 59,
     "metadata": {},
     "output_type": "execute_result"
    }
   ],
   "source": [
    "data_list_exec.applymap(get_daily_data)"
   ]
  }
 ],
 "metadata": {
  "interpreter": {
   "hash": "09d5292026d74dd0d882db1b282e48d19169a513618ea22779a1255a8a058a13"
  },
  "kernelspec": {
   "display_name": "Python 3.8.12 ('pyspark')",
   "language": "python",
   "name": "python3"
  },
  "language_info": {
   "codemirror_mode": {
    "name": "ipython",
    "version": 3
   },
   "file_extension": ".py",
   "mimetype": "text/x-python",
   "name": "python",
   "nbconvert_exporter": "python",
   "pygments_lexer": "ipython3",
   "version": "3.8.12"
  },
  "orig_nbformat": 4
 },
 "nbformat": 4,
 "nbformat_minor": 2
}
