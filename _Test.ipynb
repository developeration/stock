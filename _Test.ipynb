{
 "cells": [
  {
   "cell_type": "code",
   "execution_count": 2,
   "metadata": {},
   "outputs": [],
   "source": [
    "from _Setting import StockSetting\n",
    "import tushare  as ts\n",
    "import numpy as np\n",
    "import pandas as pd\n",
    "from pyspark.sql import SparkSession\n",
    "import matplotlib.pyplot as plt\n",
    "import json\n",
    "from pyspark.sql.types import StructType, StructField, StringType, DoubleType\n",
    "from pyspark.sql.functions import col\n"
   ]
  },
  {
   "cell_type": "code",
   "execution_count": 3,
   "metadata": {},
   "outputs": [
    {
     "name": "stderr",
     "output_type": "stream",
     "text": [
      "2022-04-13 15:57:17,398 WARN util.NativeCodeLoader: Unable to load native-hadoop library for your platform... using builtin-java classes where applicable\n",
      "Setting default log level to \"WARN\".\n",
      "To adjust logging level use sc.setLogLevel(newLevel). For SparkR, use setLogLevel(newLevel).\n"
     ]
    }
   ],
   "source": [
    "settings = StockSetting()\n",
    "spark = SparkSession.builder \\\n",
    "    .appName(\"_Test\") \\\n",
    "    .master(\"local[*]\") \\\n",
    "    .config('spark.submit.pyFiles', '/work/dev/stock/_Setting.py') \\\n",
    "    .getOrCreate() "
   ]
  },
  {
   "cell_type": "code",
   "execution_count": 4,
   "metadata": {},
   "outputs": [
    {
     "name": "stderr",
     "output_type": "stream",
     "text": [
      "                                                                                \r"
     ]
    }
   ],
   "source": [
    "data_path = settings.data_all_path+\"daily_data_ALL\"\n",
    "daily_data_ALL = spark.read.format(\"json\").load(data_path)"
   ]
  },
  {
   "cell_type": "code",
   "execution_count": 5,
   "metadata": {},
   "outputs": [
    {
     "name": "stderr",
     "output_type": "stream",
     "text": [
      "                                                                                \r"
     ]
    }
   ],
   "source": [
    "data_path = settings.data_all_path+\"daily_basic_data_ALL\"\n",
    "daily_basic_data_ALL = spark.read.format(\"json\").load(data_path)"
   ]
  },
  {
   "cell_type": "code",
   "execution_count": 6,
   "metadata": {},
   "outputs": [
    {
     "name": "stderr",
     "output_type": "stream",
     "text": [
      "2022-04-13 15:58:17,606 WARN datasources.SharedInMemoryCache: Evicting cached table partition metadata from memory due to size constraints (spark.sql.hive.filesourcePartitionFileCacheSize = 262144000 bytes). This may impact query planning performance.\n",
      "                                                                                \r"
     ]
    }
   ],
   "source": [
    "savepath = settings.data_all_path+\"daily_moneyflow_data_ALL\"\n",
    "daily_moneyflow_data_ALL = spark.read.format(\"json\").load(data_path)"
   ]
  },
  {
   "cell_type": "code",
   "execution_count": 7,
   "metadata": {},
   "outputs": [],
   "source": [
    "savepath = settings.datasource_path+\"stock_basic_main\"\n",
    "stock_basic_main = spark.read.format(\"json\").load(savepath)"
   ]
  },
  {
   "cell_type": "code",
   "execution_count": 21,
   "metadata": {},
   "outputs": [
    {
     "name": "stderr",
     "output_type": "stream",
     "text": [
      "[Stage 85:===============================================>      (176 + 8) / 200]\r"
     ]
    },
    {
     "name": "stdout",
     "output_type": "stream",
     "text": [
      "1879\n"
     ]
    },
    {
     "name": "stderr",
     "output_type": "stream",
     "text": [
      "                                                                                \r"
     ]
    }
   ],
   "source": [
    "# stock_basic_main daily_data_ALL daily_basic_data_ALL daily_moneyflow_data_ALL\n",
    "stocklist = stock_basic_main.where(\"list_date < '20190101'\")\n",
    "stock_pe = daily_basic_data_ALL.where(\"trade_date = '20220304' and pe >0\")\n",
    "print(stock_pe.count())\n"
   ]
  },
  {
   "cell_type": "code",
   "execution_count": 22,
   "metadata": {},
   "outputs": [
    {
     "name": "stderr",
     "output_type": "stream",
     "text": [
      "[Stage 90:===============================================>        (17 + 3) / 20]\r"
     ]
    },
    {
     "name": "stdout",
     "output_type": "stream",
     "text": [
      "+---------------+-----+------------+------------+------+--------+-------+-------+-------+---------------+------------+----------+---------+-------------+---------------+------------+--------+----+--------+------+\n",
      "|        circ_mv|close| float_share|  free_share|    pb|      pe| pe_ttm|     ps| ps_ttm|       total_mv| total_share|trade_date|  ts_code|turnover_rate|turnover_rate_f|volume_ratio|    name|area|industry|market|\n",
      "+---------------+-----+------------+------------+------+--------+-------+-------+-------+---------------+------------+----------+---------+-------------+---------------+------------+--------+----+--------+------+\n",
      "|1.08086262133E7|18.26| 591929.1464| 273008.5293|1.3498| 13.8632|13.2045| 4.7734| 4.0206|1.39161060745E7| 762108.7664|  20220304|000776.SZ|       1.3915|         3.0169|        1.39|广发证券|广东|    证券|  主板|\n",
      "|1.69583999115E7| 4.65|3646967.7229|3031809.0615|1.4349| 35.5016|  7.919| 1.3188| 0.9068|1.78772721141E7|3844574.6482|  20220304|000725.SZ|       0.8194|         0.9857|        0.97| 京东方A|北京|  元器件|  主板|\n",
      "|   1087677.3068| 6.18| 175999.5642|  55227.8609| 1.534| 12.4142|13.1417| 1.0068| 0.9056|   1118921.2046| 181055.2111|  20220304|000030.SZ|       0.4472|         1.4251|        1.15|富奥股份|吉林|汽车配件|  主板|\n",
      "|   2009616.6009|17.67| 113730.4245|  29600.4493| 8.314|136.5615|93.7695|22.1428|18.4785|   2009624.3333| 113730.8621|  20220304|000688.SZ|        0.846|         3.2504|        0.44|国城矿业|重庆|    铅锌|  主板|\n",
      "|   1755791.6816|21.58|  81361.9871|  35628.4332|2.2822|   8.667|  8.357| 2.7297| 2.2883|   1755791.6816|  81361.9871|  20220304|000672.SZ|        1.162|         2.6536|        0.85|上峰水泥|甘肃|    水泥|  主板|\n",
      "+---------------+-----+------------+------------+------+--------+-------+-------+-------+---------------+------------+----------+---------+-------------+---------------+------------+--------+----+--------+------+\n",
      "only showing top 5 rows\n",
      "\n"
     ]
    },
    {
     "name": "stderr",
     "output_type": "stream",
     "text": [
      "                                                                                \r"
     ]
    }
   ],
   "source": [
    "stocklist = stocklist.alias(\"list\").join(stock_pe.alias(\"pe\"),stocklist.ts_code == stock_pe.ts_code).select( \\\n",
    "    col(\"pe.*\") \\\n",
    "    ,col(\"list.name\") \\\n",
    "    ,col(\"list.area\") \\\n",
    "    ,col(\"list.industry\") \\\n",
    "    ,col(\"list.market\"))\n",
    "\n",
    "stocklist.show(5)"
   ]
  },
  {
   "cell_type": "code",
   "execution_count": 23,
   "metadata": {},
   "outputs": [
    {
     "name": "stderr",
     "output_type": "stream",
     "text": [
      "[Stage 98:==================================================>   (188 + 8) / 200]\r"
     ]
    },
    {
     "name": "stdout",
     "output_type": "stream",
     "text": [
      "909 546 159\n"
     ]
    },
    {
     "name": "stderr",
     "output_type": "stream",
     "text": [
      "                                                                                \r"
     ]
    }
   ],
   "source": [
    "x1 = stocklist.where(\"circ_mv < 1000000\").count() #100\n",
    "x2 = stocklist.where(\"circ_mv > 1000000 and circ_mv < 5000000\").count()\n",
    "x3 = stocklist.where(\"circ_mv > 5000000\").count()\n",
    "print(x1,x2,x3)"
   ]
  },
  {
   "cell_type": "code",
   "execution_count": 43,
   "metadata": {},
   "outputs": [
    {
     "name": "stdout",
     "output_type": "stream",
     "text": [
      "+-------+--------+-------------------+\n",
      "|     pb|      pe|                 AA|\n",
      "+-------+--------+-------------------+\n",
      "| 9.3874|222.3001|-212.91269999999997|\n",
      "| 9.7743|231.4622|-221.68789999999998|\n",
      "| 10.263|243.0353|          -232.7723|\n",
      "|10.6296|251.7151|          -241.0855|\n",
      "|10.7721|255.0906|          -244.3185|\n",
      "|10.5685|250.2685|             -239.7|\n",
      "| 10.263|243.0353|          -232.7723|\n",
      "|10.5685|250.2685|             -239.7|\n",
      "|10.1612|240.6242|           -230.463|\n",
      "| 9.6725|229.0511|          -219.3786|\n",
      "| 9.5096|225.1934|          -215.6838|\n",
      "| 9.4282|223.2646|          -213.8364|\n",
      "| 9.7743|231.4622|-221.68789999999998|\n",
      "|10.2834|243.5175|          -233.2341|\n",
      "|10.3852|245.9286|          -235.5434|\n",
      "|10.3852|245.9286|          -235.5434|\n",
      "| 10.935|258.9483|-248.01330000000002|\n",
      "|11.4237|270.5214|-259.09770000000003|\n",
      "| 11.383| 269.557|-258.17400000000004|\n",
      "|11.0572|261.8416|-250.78440000000003|\n",
      "+-------+--------+-------------------+\n",
      "only showing top 20 rows\n",
      "\n"
     ]
    }
   ],
   "source": [
    "daily_basic_data_ALL.select(col(\"pb\"),col(\"pe\"),(col(\"pb\")-col(\"pe\")).alias(\"AA\")).show()"
   ]
  },
  {
   "cell_type": "code",
   "execution_count": 29,
   "metadata": {},
   "outputs": [
    {
     "name": "stderr",
     "output_type": "stream",
     "text": [
      "[Stage 108:===================================================> (194 + 6) / 200]\r"
     ]
    },
    {
     "name": "stdout",
     "output_type": "stream",
     "text": [
      "+----------+------+-----+-----+-----+-----+-------+---------+----------+---------+--------+-------------+--------------+\n",
      "|    amount|change|close| high|  low| open|pct_chg|pre_close|trade_date|  ts_code|     vol|turnover_rate|turnover_rate1|\n",
      "+----------+------+-----+-----+-----+-----+-------+---------+----------+---------+--------+-------------+--------------+\n",
      "|27237.6637| -0.12|15.38|15.68|15.35|15.68|  -0.77|     15.5|  20010709|000001.SZ|17663.84|       0.1268|        0.1268|\n",
      "|33897.2571| -0.02|11.09| 11.3|11.01| 11.1|  -0.18|    11.11|  20030630|000001.SZ|30499.07|       0.2164|        0.2164|\n",
      "|31836.2506|  0.14| 11.3|11.32|11.15|11.18|   1.25|    11.16|  20030708|000001.SZ|28254.23|       0.2005|        0.2005|\n",
      "|27160.9837|  0.11|  8.0|  8.0|  7.8| 7.88|   1.39|     7.89|  20031110|000001.SZ|34275.28|       0.2432|        0.2432|\n",
      "|32182.9617|  0.07| 5.79| 5.82| 5.66| 5.73|   1.22|     5.72|  20050720|000001.SZ|55713.35|       0.3953|        0.3953|\n",
      "+----------+------+-----+-----+-----+-----+-------+---------+----------+---------+--------+-------------+--------------+\n",
      "only showing top 5 rows\n",
      "\n"
     ]
    },
    {
     "name": "stderr",
     "output_type": "stream",
     "text": [
      "                                                                                \r"
     ]
    }
   ],
   "source": [
    "# stock_basic_main daily_data_ALL daily_basic_data_ALL daily_moneyflow_data_ALL\n",
    "daily_data_merge = daily_data_ALL.alias(\"all\") \\\n",
    "    .join(stocklist.alias(\"stcoklist\"),col(\"all.ts_code\") == col(\"stcoklist.ts_code\")) \\\n",
    "    .join(daily_basic_data_ALL.alias(\"basic\"), (col(\"all.ts_code\") == col(\"basic.ts_code\") ) & (col(\"all.trade_date\") == col(\"basic.trade_date\") )) \\\n",
    "    .join(daily_moneyflow_data_ALL.alias(\"money\"),(col(\"all.ts_code\") == col(\"money.ts_code\") ) & (col(\"all.trade_date\") == col(\"money.trade_date\") )) \\\n",
    "    .select(col(\"all.*\") \\\n",
    "    ,col(\"basic.total_mv\"),col(\"basic.circ_mv\"),col(\"basic.pe\"),col(\"basic.pb\"),col(\"basic.turnover_rate\"),col(\"basic.turnover_rate_f\") \\\n",
    "    ,(col(\"money.buy_sm_amount\")-col(\"money.sell_sm_amount\").alias(\"sm_amount\")) \\\n",
    "    ,(col(\"money.buy_md_amount\")-col(\"money.sell_md_amount\").alias(\"md_amount\")) \\\n",
    "    ,(col(\"money.buy_lg_amount\")-col(\"money.sell_lg_amount\").alias(\"lg_amount\")) \\\n",
    "    ,(col(\"money.buy_elg_amount\")-col(\"money.sell_elg_amount\").alias(\"elg_amount\")) \\\n",
    "    )\n",
    "\n",
    "daily_data_merge.show(5)"
   ]
  }
 ],
 "metadata": {
  "interpreter": {
   "hash": "09d5292026d74dd0d882db1b282e48d19169a513618ea22779a1255a8a058a13"
  },
  "kernelspec": {
   "display_name": "Python 3.8.12 ('pyspark')",
   "language": "python",
   "name": "python3"
  },
  "language_info": {
   "codemirror_mode": {
    "name": "ipython",
    "version": 3
   },
   "file_extension": ".py",
   "mimetype": "text/x-python",
   "name": "python",
   "nbconvert_exporter": "python",
   "pygments_lexer": "ipython3",
   "version": "3.8.12"
  },
  "orig_nbformat": 4
 },
 "nbformat": 4,
 "nbformat_minor": 2
}
