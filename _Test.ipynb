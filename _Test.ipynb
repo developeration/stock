{
 "cells": [
  {
   "cell_type": "code",
   "execution_count": 56,
   "metadata": {},
   "outputs": [],
   "source": [
    "from _Setting import StockSetting\n",
    "import tushare  as ts\n",
    "import numpy as np\n",
    "import pandas as pd\n",
    "from pyspark.sql import SparkSession\n",
    "import matplotlib.pyplot as plt\n",
    "import json\n",
    "from pyspark.sql.types import StructType, StructField, StringType, DoubleType\n",
    "from pyspark.sql.functions import col\n"
   ]
  },
  {
   "cell_type": "code",
   "execution_count": null,
   "metadata": {},
   "outputs": [],
   "source": [
    "settings = StockSetting()\n",
    "spark = SparkSession.builder \\\n",
    "    .appName(\"_Test\") \\\n",
    "    .master(\"local[*]\") \\\n",
    "    .config('spark.submit.pyFiles', '/work/dev/stock/_Setting.py') \\\n",
    "    .getOrCreate() "
   ]
  },
  {
   "cell_type": "code",
   "execution_count": null,
   "metadata": {},
   "outputs": [],
   "source": [
    "data_path = settings.data_all_path+\"daily_data_ALL\"\n",
    "daily_data_ALL = spark.read.format(\"json\").load(data_path)"
   ]
  },
  {
   "cell_type": "code",
   "execution_count": null,
   "metadata": {},
   "outputs": [],
   "source": [
    "data_path = settings.data_all_path+\"daily_basic_data_ALL\"\n",
    "daily_basic_data_ALL = spark.read.format(\"json\").load(data_path)"
   ]
  },
  {
   "cell_type": "code",
   "execution_count": null,
   "metadata": {},
   "outputs": [],
   "source": [
    "savepath = settings.data_all_path+\"daily_moneyflow_data_ALL\"\n",
    "daily_moneyflow_data_ALL = spark.read.format(\"json\").load(data_path)"
   ]
  },
  {
   "cell_type": "code",
   "execution_count": 5,
   "metadata": {},
   "outputs": [],
   "source": [
    "savepath = settings.datasource_path+\"stock_basic_main\"\n",
    "stock_basic_main = spark.read.format(\"json\").load(savepath)"
   ]
  },
  {
   "cell_type": "code",
   "execution_count": 57,
   "metadata": {},
   "outputs": [],
   "source": [
    "# stock_basic_main daily_data_ALL daily_basic_data_ALL daily_moneyflow_data_ALL\n",
    "stocklist = stock_basic_main.where(\"list_date < '20200101' and ts_code like '%.SH'\")\n",
    "stock_pe = daily_basic_data_ALL.where(\"trade_date = '20220304' and pe <>'NaN'\")\n"
   ]
  },
  {
   "cell_type": "code",
   "execution_count": 62,
   "metadata": {},
   "outputs": [
    {
     "name": "stderr",
     "output_type": "stream",
     "text": [
      "                                                                                \r"
     ]
    },
    {
     "name": "stdout",
     "output_type": "stream",
     "text": [
      "+---------------+-----+------------+------------+------+-------+-------+------+------+---------------+---------------+----------+---------+-------------+---------------+------------+--------+----+--------+------+\n",
      "|        circ_mv|close| float_share|  free_share|    pb|     pe| pe_ttm|    ps|ps_ttm|       total_mv|    total_share|trade_date|  ts_code|turnover_rate|turnover_rate_f|volume_ratio|    name|area|industry|market|\n",
      "+---------------+-----+------------+------------+------+-------+-------+------+------+---------------+---------------+----------+---------+-------------+---------------+------------+--------+----+--------+------+\n",
      "|4.18543037181E7| 4.38|9555777.1046|1284854.3653|0.6893|16.1065| 7.6511|0.2518|0.2076|5.30291898249E7|1.21071209646E7|  20220304|600028.SH|       0.2424|         1.8025|        0.87|中国石化|北京|石油加工|  主板|\n",
      "|   9991427.2087|11.26|  887338.118| 855376.0113|0.9076|13.5262|10.3597|3.8489|3.2832|   1.47102892E7|      1306420.0|  20220304|600837.SH|       0.2986|         0.3098|        1.08|海通证券|上海|    证券|  主板|\n",
      "|    257664.7308|11.55|  22308.6347|  12281.1613| 3.452|37.5928|55.0226|1.6237|1.8552|    257664.7308|     22308.6347|  20220304|600833.SH|      12.0685|        21.9224|        7.56|第一医药|上海|医药商业|  主板|\n",
      "|   1930900.4878| 9.04| 213595.1867|  98296.0044|1.4189|15.0065| 9.0671|0.0541|0.0421|   1950338.4928|    215745.4085|  20220304|600057.SH|        1.763|          3.831|         1.3|厦门象屿|福建|仓储物流|  主板|\n",
      "|    826407.6012| 3.63| 227660.4962| 146995.1059|0.6767|20.0491|27.1084|0.6056|0.8458|    898542.9957|    247532.5057|  20220304|600094.SH|       0.6624|         1.0259|        1.26|  大名城|上海|区域地产|  主板|\n",
      "+---------------+-----+------------+------------+------+-------+-------+------+------+---------------+---------------+----------+---------+-------------+---------------+------------+--------+----+--------+------+\n",
      "only showing top 5 rows\n",
      "\n"
     ]
    },
    {
     "name": "stderr",
     "output_type": "stream",
     "text": [
      "                                                                                \r"
     ]
    }
   ],
   "source": [
    "stocklist = stocklist.alias(\"list\").join(stock_pe.alias(\"pe\"),stocklist.ts_code == stock_pe.ts_code).select( \\\n",
    "    col(\"pe.*\") \\\n",
    "    ,col(\"list.name\") \\\n",
    "    ,col(\"list.area\") \\\n",
    "    ,col(\"list.industry\") \\\n",
    "    ,col(\"list.market\"))\n",
    "\n",
    "stocklist.show(5)"
   ]
  },
  {
   "cell_type": "code",
   "execution_count": 63,
   "metadata": {},
   "outputs": [
    {
     "name": "stderr",
     "output_type": "stream",
     "text": [
      "[Stage 137:=================================================>   (188 + 8) / 200]\r"
     ]
    },
    {
     "name": "stdout",
     "output_type": "stream",
     "text": [
      "1 447 287 563\n"
     ]
    },
    {
     "name": "stderr",
     "output_type": "stream",
     "text": [
      "                                                                                \r"
     ]
    }
   ],
   "source": [
    "x1 = stocklist.where(\"circ_mv < 100000\").count() #100\n",
    "x2 = stocklist.where(\"circ_mv > 100000 and circ_mv < 500000\").count()\n",
    "x3 = stocklist.where(\"circ_mv > 500000 and circ_mv < 1000000\").count()\n",
    "x4 = stocklist.where(\"circ_mv > 1000000 \").count()\n",
    "print(x1,x2,x3,x4)"
   ]
  },
  {
   "cell_type": "code",
   "execution_count": 65,
   "metadata": {},
   "outputs": [
    {
     "name": "stderr",
     "output_type": "stream",
     "text": [
      "[Stage 150:==============================================>        (64 + 8) / 75]\r"
     ]
    },
    {
     "name": "stdout",
     "output_type": "stream",
     "text": [
      "+-------+-----+-----------+----------+-----+-------+-------+------+------+-----------+-----------+----------+---------+-------------+---------------+------------+--------+----+--------+------+\n",
      "|circ_mv|close|float_share|free_share|   pb|     pe| pe_ttm|    ps|ps_ttm|   total_mv|total_share|trade_date|  ts_code|turnover_rate|turnover_rate_f|volume_ratio|    name|area|industry|market|\n",
      "+-------+-----+-----------+----------+-----+-------+-------+------+------+-----------+-----------+----------+---------+-------------+---------------+------------+--------+----+--------+------+\n",
      "|76832.0|17.15|     4480.0|    4480.0|3.222|25.4252|23.9014|3.3798|2.5906|687731.9065| 40100.9858|  20220304|603992.SH|       0.8895|         0.8895|        0.98|松霖科技|福建|家居用品|  主板|\n",
      "+-------+-----+-----------+----------+-----+-------+-------+------+------+-----------+-----------+----------+---------+-------------+---------------+------------+--------+----+--------+------+\n",
      "\n"
     ]
    },
    {
     "name": "stderr",
     "output_type": "stream",
     "text": [
      "                                                                                \r"
     ]
    }
   ],
   "source": [
    "stocklist.where(\"circ_mv < 100000\").show()"
   ]
  },
  {
   "cell_type": "code",
   "execution_count": 64,
   "metadata": {},
   "outputs": [
    {
     "name": "stderr",
     "output_type": "stream",
     "text": [
      "[Stage 144:==========================================>            (58 + 8) / 75]\r"
     ]
    },
    {
     "name": "stdout",
     "output_type": "stream",
     "text": [
      "+----------+-----+-----------+----------+------+--------+--------+-------+------+-----------+-----------+----------+---------+-------------+---------------+------------+--------+----+--------+------+\n",
      "|   circ_mv|close|float_share|free_share|    pb|      pe|  pe_ttm|     ps|ps_ttm|   total_mv|total_share|trade_date|  ts_code|turnover_rate|turnover_rate_f|volume_ratio|    name|area|industry|market|\n",
      "+----------+-----+-----------+----------+------+--------+--------+-------+------+-----------+-----------+----------+---------+-------------+---------------+------------+--------+----+--------+------+\n",
      "|277850.505|  5.6| 49616.1616|37757.2703|3.2098|917.1828|180.0205|10.9657|7.5079|293551.0749| 52419.8348|  20220304|600538.SH|       2.4029|         3.1576|        1.46|国发股份|广西|医药商业|  主板|\n",
      "+----------+-----+-----------+----------+------+--------+--------+-------+------+-----------+-----------+----------+---------+-------------+---------------+------------+--------+----+--------+------+\n",
      "\n"
     ]
    },
    {
     "name": "stderr",
     "output_type": "stream",
     "text": [
      "                                                                                \r"
     ]
    }
   ],
   "source": [
    "stocklist.where(\"ts_code = '600538.SH'\").show()"
   ]
  }
 ],
 "metadata": {
  "interpreter": {
   "hash": "09d5292026d74dd0d882db1b282e48d19169a513618ea22779a1255a8a058a13"
  },
  "kernelspec": {
   "display_name": "Python 3.8.12 ('pyspark')",
   "language": "python",
   "name": "python3"
  },
  "language_info": {
   "codemirror_mode": {
    "name": "ipython",
    "version": 3
   },
   "file_extension": ".py",
   "mimetype": "text/x-python",
   "name": "python",
   "nbconvert_exporter": "python",
   "pygments_lexer": "ipython3",
   "version": "3.8.12"
  },
  "orig_nbformat": 4
 },
 "nbformat": 4,
 "nbformat_minor": 2
}
